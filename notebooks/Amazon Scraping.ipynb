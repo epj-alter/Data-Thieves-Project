{
 "cells": [
  {
   "cell_type": "markdown",
   "metadata": {},
   "source": [
    "## Amazon Best Sellers Book Links\n",
    "- https://www.amazon.com/best-sellers-books-Amazon/zgbs/books \n",
    "- https://www.amazon.com/best-sellers-books-Amazon/zgbs/books/ref=zg_bs_pg_2?_encoding=UTF8&pg=2"
   ]
  },
  {
   "cell_type": "markdown",
   "metadata": {},
   "source": [
    "## 1. Import libraries"
   ]
  },
  {
   "cell_type": "code",
   "execution_count": 1,
   "metadata": {},
   "outputs": [],
   "source": [
    "import requests as rq\n",
    "import pandas as pd\n",
    "from bs4 import BeautifulSoup as bs\n",
    "import lxml\n",
    "import re"
   ]
  },
  {
   "cell_type": "markdown",
   "metadata": {},
   "source": [
    "## 2. Set base urls"
   ]
  },
  {
   "cell_type": "code",
   "execution_count": 2,
   "metadata": {},
   "outputs": [],
   "source": [
    "url1 = 'https://www.amazon.com/best-sellers-books-Amazon/zgbs/books'\n",
    "url2 = 'https://www.amazon.com/best-sellers-books-Amazon/zgbs/books/ref=zg_bs_pg_2?_encoding=UTF8&pg=2'"
   ]
  },
  {
   "cell_type": "markdown",
   "metadata": {},
   "source": [
    "## 3. Make a request"
   ]
  },
  {
   "cell_type": "code",
   "execution_count": 3,
   "metadata": {},
   "outputs": [
    {
     "data": {
      "text/plain": [
       "200"
      ]
     },
     "execution_count": 3,
     "metadata": {},
     "output_type": "execute_result"
    }
   ],
   "source": [
    "# set response object\n",
    "res = rq.get(url1)\n",
    "# check status code 200 = OK\n",
    "res.status_code"
   ]
  },
  {
   "cell_type": "markdown",
   "metadata": {},
   "source": [
    "## 4. Create our soup object"
   ]
  },
  {
   "cell_type": "code",
   "execution_count": 4,
   "metadata": {},
   "outputs": [
    {
     "data": {
      "text/plain": [
       "'Amazon Best Sellers: Best Books'"
      ]
     },
     "execution_count": 4,
     "metadata": {},
     "output_type": "execute_result"
    }
   ],
   "source": [
    "soup = bs(res.text,'lxml')\n",
    "soup.find('title').text"
   ]
  },
  {
   "cell_type": "markdown",
   "metadata": {},
   "source": [
    "## 5. Find the data:\n",
    "* rank\n",
    "* title\n",
    "* author\n",
    "* price\n",
    "* rating\n",
    "* number_of_reviews"
   ]
  },
  {
   "cell_type": "code",
   "execution_count": 5,
   "metadata": {},
   "outputs": [
    {
     "data": {
      "text/plain": [
       "'#1\\n\\n            The Room Where It Happened: A White House Memoir\\n        \\nJohn BoltonHardcover$19.50'"
      ]
     },
     "execution_count": 5,
     "metadata": {},
     "output_type": "execute_result"
    }
   ],
   "source": [
    "soup.find(\"li\", \"zg-item-immersion\").text.strip()"
   ]
  },
  {
   "cell_type": "markdown",
   "metadata": {},
   "source": [
    "## Find Titles"
   ]
  },
  {
   "cell_type": "code",
   "execution_count": 6,
   "metadata": {},
   "outputs": [
    {
     "data": {
      "text/plain": [
       "50"
      ]
     },
     "execution_count": 6,
     "metadata": {},
     "output_type": "execute_result"
    }
   ],
   "source": [
    "titles_class = \"zg-item\"\n",
    "titles = [x.a.text.strip().title() for x in soup.find_all(\"span\", titles_class)]\n",
    "len(titles)"
   ]
  },
  {
   "cell_type": "markdown",
   "metadata": {},
   "source": [
    "## Find ranks"
   ]
  },
  {
   "cell_type": "code",
   "execution_count": 7,
   "metadata": {},
   "outputs": [
    {
     "data": {
      "text/plain": [
       "50"
      ]
     },
     "execution_count": 7,
     "metadata": {},
     "output_type": "execute_result"
    }
   ],
   "source": [
    "rank_class = \"zg-badge-text\"\n",
    "ranks = [x.text.replace(\"#\", \"\") for x in soup.find_all(\"span\", rank_class)]\n",
    "len(ranks)"
   ]
  },
  {
   "cell_type": "markdown",
   "metadata": {},
   "source": [
    "## Find authors"
   ]
  },
  {
   "cell_type": "code",
   "execution_count": 8,
   "metadata": {},
   "outputs": [
    {
     "data": {
      "text/plain": [
       "50"
      ]
     },
     "execution_count": 8,
     "metadata": {},
     "output_type": "execute_result"
    }
   ],
   "source": [
    "# we need to create a list for all of the book \"formats\"\n",
    "blacklist = [\"Paperback\", \"Hardcover\", \"Board book\", \"Mass Market Paperback\"]\n",
    "author_class = \"a-row a-size-small\"\n",
    "authors = [x.text for x in soup.find_all(\"div\", author_class) if x.text not in blacklist]\n",
    "len(authors)"
   ]
  },
  {
   "cell_type": "markdown",
   "metadata": {},
   "source": [
    "## Find Prices"
   ]
  },
  {
   "cell_type": "code",
   "execution_count": 9,
   "metadata": {},
   "outputs": [
    {
     "data": {
      "text/plain": [
       "50"
      ]
     },
     "execution_count": 9,
     "metadata": {},
     "output_type": "execute_result"
    }
   ],
   "source": [
    "price_class = \"p13n-sc-price\"\n",
    "prices = [x.text.replace(\"$\", \"\") for x in soup.find_all(\"span\", price_class)]\n",
    "len(prices)"
   ]
  },
  {
   "cell_type": "markdown",
   "metadata": {},
   "source": [
    "## Find ratings"
   ]
  },
  {
   "cell_type": "code",
   "execution_count": 10,
   "metadata": {},
   "outputs": [
    {
     "data": {
      "text/plain": [
       "50"
      ]
     },
     "execution_count": 10,
     "metadata": {},
     "output_type": "execute_result"
    }
   ],
   "source": [
    "ratings_class = \"zg-item\"\n",
    "pattern = r\"(\\d.\\d)\\sout\"\n",
    "ratings = [''.join(re.findall(pattern ,x.text)) for x in soup.find_all(\"span\", ratings_class)]\n",
    "len(ratings)"
   ]
  },
  {
   "cell_type": "markdown",
   "metadata": {},
   "source": [
    "## Find number of reviews"
   ]
  },
  {
   "cell_type": "code",
   "execution_count": 11,
   "metadata": {},
   "outputs": [
    {
     "data": {
      "text/plain": [
       "50"
      ]
     },
     "execution_count": 11,
     "metadata": {},
     "output_type": "execute_result"
    }
   ],
   "source": [
    "reviews_class2 = \"zg-item\"\n",
    "pattern = r\"stars\\s+(\\d+\\W\\d+ | \\d+)\"\n",
    "n_reviews = [\"\".join(re.findall(pattern, x.text.strip().replace(\"\\n\", \" \"))).strip() for x in soup.find_all(\"span\", reviews_class2)]\n",
    "len(n_reviews)"
   ]
  },
  {
   "cell_type": "markdown",
   "metadata": {},
   "source": [
    "## 6. Create the Data Frame object"
   ]
  },
  {
   "cell_type": "code",
   "execution_count": 12,
   "metadata": {},
   "outputs": [
    {
     "data": {
      "text/html": [
       "<div>\n",
       "<style scoped>\n",
       "    .dataframe tbody tr th:only-of-type {\n",
       "        vertical-align: middle;\n",
       "    }\n",
       "\n",
       "    .dataframe tbody tr th {\n",
       "        vertical-align: top;\n",
       "    }\n",
       "\n",
       "    .dataframe thead th {\n",
       "        text-align: right;\n",
       "    }\n",
       "</style>\n",
       "<table border=\"1\" class=\"dataframe\">\n",
       "  <thead>\n",
       "    <tr style=\"text-align: right;\">\n",
       "      <th></th>\n",
       "      <th>rank</th>\n",
       "      <th>title</th>\n",
       "      <th>author</th>\n",
       "      <th>ratings</th>\n",
       "      <th>reviews</th>\n",
       "      <th>price</th>\n",
       "    </tr>\n",
       "  </thead>\n",
       "  <tbody>\n",
       "    <tr>\n",
       "      <th>0</th>\n",
       "      <td>1</td>\n",
       "      <td>The Room Where It Happened: A White House Memoir</td>\n",
       "      <td>John Bolton</td>\n",
       "      <td>0</td>\n",
       "      <td>0</td>\n",
       "      <td>19.50</td>\n",
       "    </tr>\n",
       "    <tr>\n",
       "      <th>1</th>\n",
       "      <td>2</td>\n",
       "      <td>Too Much And Never Enough: How My Family Creat...</td>\n",
       "      <td>Mary L. Trump Ph.D.</td>\n",
       "      <td>0</td>\n",
       "      <td>0</td>\n",
       "      <td>25.20</td>\n",
       "    </tr>\n",
       "    <tr>\n",
       "      <th>2</th>\n",
       "      <td>3</td>\n",
       "      <td>How To Be An Antiracist</td>\n",
       "      <td>Ibram X. Kendi</td>\n",
       "      <td>4.7</td>\n",
       "      <td>559</td>\n",
       "      <td>14.79</td>\n",
       "    </tr>\n",
       "    <tr>\n",
       "      <th>3</th>\n",
       "      <td>4</td>\n",
       "      <td>White Fragility: Why It'S So Hard For White Pe...</td>\n",
       "      <td>Robin DiAngelo</td>\n",
       "      <td>4.3</td>\n",
       "      <td>1,908</td>\n",
       "      <td>11.35</td>\n",
       "    </tr>\n",
       "    <tr>\n",
       "      <th>4</th>\n",
       "      <td>5</td>\n",
       "      <td>Stamped From The Beginning: The Definitive His...</td>\n",
       "      <td>Ibram X. Kendi</td>\n",
       "      <td>4.7</td>\n",
       "      <td>645</td>\n",
       "      <td>12.16</td>\n",
       "    </tr>\n",
       "  </tbody>\n",
       "</table>\n",
       "</div>"
      ],
      "text/plain": [
       "  rank                                              title  \\\n",
       "0    1   The Room Where It Happened: A White House Memoir   \n",
       "1    2  Too Much And Never Enough: How My Family Creat...   \n",
       "2    3                            How To Be An Antiracist   \n",
       "3    4  White Fragility: Why It'S So Hard For White Pe...   \n",
       "4    5  Stamped From The Beginning: The Definitive His...   \n",
       "\n",
       "                author ratings reviews  price  \n",
       "0          John Bolton       0       0  19.50  \n",
       "1  Mary L. Trump Ph.D.       0       0  25.20  \n",
       "2       Ibram X. Kendi     4.7     559  14.79  \n",
       "3       Robin DiAngelo     4.3   1,908  11.35  \n",
       "4       Ibram X. Kendi     4.7     645  12.16  "
      ]
     },
     "execution_count": 12,
     "metadata": {},
     "output_type": "execute_result"
    }
   ],
   "source": [
    "data = pd.DataFrame({\n",
    "    \"rank\": ranks, \n",
    "    \"title\": titles, \n",
    "    \"author\": authors,  \n",
    "    \"ratings\": ratings, \n",
    "    \"reviews\": n_reviews,\n",
    "    \"price\": prices,})\n",
    "\n",
    "#replace null values by zero\n",
    "data.replace(\"\", 0, inplace=True)\n",
    "data.head()"
   ]
  },
  {
   "cell_type": "markdown",
   "metadata": {},
   "source": [
    "## 7. Export csv file"
   ]
  },
  {
   "cell_type": "code",
   "execution_count": 13,
   "metadata": {},
   "outputs": [],
   "source": [
    "data.to_csv(\"../data/amazon.csv\" ,index=False)"
   ]
  },
  {
   "cell_type": "markdown",
   "metadata": {},
   "source": [
    "## Import csv file"
   ]
  },
  {
   "cell_type": "code",
   "execution_count": 14,
   "metadata": {},
   "outputs": [
    {
     "data": {
      "text/html": [
       "<div>\n",
       "<style scoped>\n",
       "    .dataframe tbody tr th:only-of-type {\n",
       "        vertical-align: middle;\n",
       "    }\n",
       "\n",
       "    .dataframe tbody tr th {\n",
       "        vertical-align: top;\n",
       "    }\n",
       "\n",
       "    .dataframe thead th {\n",
       "        text-align: right;\n",
       "    }\n",
       "</style>\n",
       "<table border=\"1\" class=\"dataframe\">\n",
       "  <thead>\n",
       "    <tr style=\"text-align: right;\">\n",
       "      <th></th>\n",
       "      <th>rank</th>\n",
       "      <th>title</th>\n",
       "      <th>author</th>\n",
       "      <th>ratings</th>\n",
       "      <th>reviews</th>\n",
       "      <th>price</th>\n",
       "    </tr>\n",
       "  </thead>\n",
       "  <tbody>\n",
       "    <tr>\n",
       "      <th>0</th>\n",
       "      <td>1</td>\n",
       "      <td>The Room Where It Happened: A White House Memoir</td>\n",
       "      <td>John Bolton</td>\n",
       "      <td>0.0</td>\n",
       "      <td>0</td>\n",
       "      <td>19.50</td>\n",
       "    </tr>\n",
       "    <tr>\n",
       "      <th>1</th>\n",
       "      <td>2</td>\n",
       "      <td>Too Much And Never Enough: How My Family Creat...</td>\n",
       "      <td>Mary L. Trump Ph.D.</td>\n",
       "      <td>0.0</td>\n",
       "      <td>0</td>\n",
       "      <td>25.20</td>\n",
       "    </tr>\n",
       "    <tr>\n",
       "      <th>2</th>\n",
       "      <td>3</td>\n",
       "      <td>How To Be An Antiracist</td>\n",
       "      <td>Ibram X. Kendi</td>\n",
       "      <td>4.7</td>\n",
       "      <td>559</td>\n",
       "      <td>14.79</td>\n",
       "    </tr>\n",
       "    <tr>\n",
       "      <th>3</th>\n",
       "      <td>4</td>\n",
       "      <td>White Fragility: Why It'S So Hard For White Pe...</td>\n",
       "      <td>Robin DiAngelo</td>\n",
       "      <td>4.3</td>\n",
       "      <td>1,908</td>\n",
       "      <td>11.35</td>\n",
       "    </tr>\n",
       "    <tr>\n",
       "      <th>4</th>\n",
       "      <td>5</td>\n",
       "      <td>Stamped From The Beginning: The Definitive His...</td>\n",
       "      <td>Ibram X. Kendi</td>\n",
       "      <td>4.7</td>\n",
       "      <td>645</td>\n",
       "      <td>12.16</td>\n",
       "    </tr>\n",
       "  </tbody>\n",
       "</table>\n",
       "</div>"
      ],
      "text/plain": [
       "   rank                                              title  \\\n",
       "0     1   The Room Where It Happened: A White House Memoir   \n",
       "1     2  Too Much And Never Enough: How My Family Creat...   \n",
       "2     3                            How To Be An Antiracist   \n",
       "3     4  White Fragility: Why It'S So Hard For White Pe...   \n",
       "4     5  Stamped From The Beginning: The Definitive His...   \n",
       "\n",
       "                author  ratings reviews  price  \n",
       "0          John Bolton      0.0       0  19.50  \n",
       "1  Mary L. Trump Ph.D.      0.0       0  25.20  \n",
       "2       Ibram X. Kendi      4.7     559  14.79  \n",
       "3       Robin DiAngelo      4.3   1,908  11.35  \n",
       "4       Ibram X. Kendi      4.7     645  12.16  "
      ]
     },
     "execution_count": 14,
     "metadata": {},
     "output_type": "execute_result"
    }
   ],
   "source": [
    "pd.read_csv(\"../data/amazon.csv\").head()"
   ]
  }
 ],
 "metadata": {
  "celltoolbar": "Raw Cell Format",
  "kernelspec": {
   "display_name": "Python 3",
   "language": "python",
   "name": "python3"
  },
  "language_info": {
   "codemirror_mode": {
    "name": "ipython",
    "version": 3
   },
   "file_extension": ".py",
   "mimetype": "text/x-python",
   "name": "python",
   "nbconvert_exporter": "python",
   "pygments_lexer": "ipython3",
   "version": "3.8.3"
  }
 },
 "nbformat": 4,
 "nbformat_minor": 4
}
