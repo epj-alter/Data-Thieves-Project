{
 "cells": [
  {
   "cell_type": "markdown",
   "metadata": {},
   "source": [
    "## Remove non numeric characters from numeric values"
   ]
  },
  {
   "cell_type": "code",
   "execution_count": 1,
   "metadata": {},
   "outputs": [],
   "source": [
    "import pandas as pd\n",
    "pd.set_option('display.max_rows', 100)"
   ]
  },
  {
   "cell_type": "code",
   "execution_count": 2,
   "metadata": {},
   "outputs": [],
   "source": [
    "kaggle_goodreads = pd.read_csv(\"../assets/goodreads_kaggle.csv\")\n",
    "kaggle_goodreads = kaggle_goodreads[[\"Name\", \"Authors\", \"Rating\", \"RatingDistTotal\"]]\n",
    "kaggle_goodreads[\"RatingDistTotal\"].replace(regex=r\"total:\", value=\"\", inplace=True)"
   ]
  },
  {
   "cell_type": "markdown",
   "metadata": {},
   "source": [
    "## Rename Columns"
   ]
  },
  {
   "cell_type": "code",
   "execution_count": 3,
   "metadata": {},
   "outputs": [
    {
     "data": {
      "text/html": [
       "<div>\n",
       "<style scoped>\n",
       "    .dataframe tbody tr th:only-of-type {\n",
       "        vertical-align: middle;\n",
       "    }\n",
       "\n",
       "    .dataframe tbody tr th {\n",
       "        vertical-align: top;\n",
       "    }\n",
       "\n",
       "    .dataframe thead th {\n",
       "        text-align: right;\n",
       "    }\n",
       "</style>\n",
       "<table border=\"1\" class=\"dataframe\">\n",
       "  <thead>\n",
       "    <tr style=\"text-align: right;\">\n",
       "      <th></th>\n",
       "      <th>title</th>\n",
       "      <th>author</th>\n",
       "      <th>ratings</th>\n",
       "      <th>reviews</th>\n",
       "    </tr>\n",
       "  </thead>\n",
       "  <tbody>\n",
       "    <tr>\n",
       "      <th>0</th>\n",
       "      <td>A Long Finish (Aurelio Zen, #6)</td>\n",
       "      <td>Michael Dibdin</td>\n",
       "      <td>3.78</td>\n",
       "      <td>1043</td>\n",
       "    </tr>\n",
       "    <tr>\n",
       "      <th>1</th>\n",
       "      <td>Blood Rain (Aurelio Zen, #7)</td>\n",
       "      <td>Michael Dibdin</td>\n",
       "      <td>3.75</td>\n",
       "      <td>1024</td>\n",
       "    </tr>\n",
       "    <tr>\n",
       "      <th>2</th>\n",
       "      <td>Sizilianisches Finale (Aurelio Zen, #7)</td>\n",
       "      <td>Michael Dibdin</td>\n",
       "      <td>3.75</td>\n",
       "      <td>1024</td>\n",
       "    </tr>\n",
       "    <tr>\n",
       "      <th>3</th>\n",
       "      <td>New Television, Globalisation, and the East As...</td>\n",
       "      <td>Anthony Y. H. Fung</td>\n",
       "      <td>4.00</td>\n",
       "      <td>1</td>\n",
       "    </tr>\n",
       "    <tr>\n",
       "      <th>4</th>\n",
       "      <td>Medieval Machine: The Industrial Revolution of...</td>\n",
       "      <td>Jean Gimpel</td>\n",
       "      <td>3.89</td>\n",
       "      <td>222</td>\n",
       "    </tr>\n",
       "  </tbody>\n",
       "</table>\n",
       "</div>"
      ],
      "text/plain": [
       "                                               title              author  \\\n",
       "0                    A Long Finish (Aurelio Zen, #6)      Michael Dibdin   \n",
       "1                       Blood Rain (Aurelio Zen, #7)      Michael Dibdin   \n",
       "2            Sizilianisches Finale (Aurelio Zen, #7)      Michael Dibdin   \n",
       "3  New Television, Globalisation, and the East As...  Anthony Y. H. Fung   \n",
       "4  Medieval Machine: The Industrial Revolution of...         Jean Gimpel   \n",
       "\n",
       "   ratings reviews  \n",
       "0     3.78    1043  \n",
       "1     3.75    1024  \n",
       "2     3.75    1024  \n",
       "3     4.00       1  \n",
       "4     3.89     222  "
      ]
     },
     "execution_count": 3,
     "metadata": {},
     "output_type": "execute_result"
    }
   ],
   "source": [
    "kaggle_goodreads.rename(columns={\n",
    "    \"Name\": \"title\",\n",
    "    \"Authors\": \"author\",\n",
    "    \"Rating\": \"ratings\",\n",
    "    \"RatingDistTotal\": \"reviews\"\n",
    "}, inplace=True)\n",
    "\n",
    "kaggle_goodreads.head()"
   ]
  },
  {
   "cell_type": "markdown",
   "metadata": {},
   "source": [
    "## Export clean csv file"
   ]
  },
  {
   "cell_type": "code",
   "execution_count": 33,
   "metadata": {},
   "outputs": [],
   "source": [
    "kaggle_goodreads.to_csv(\"../data/kaggle_goodreads.csv\", index=False)"
   ]
  }
 ],
 "metadata": {
  "kernelspec": {
   "display_name": "Python 3.8.3 64-bit ('ironhack': conda)",
   "language": "python",
   "name": "python38364bitironhackcondae22397c42f6b4fd29a9381c81ac70f68"
  },
  "language_info": {
   "codemirror_mode": {
    "name": "ipython",
    "version": 3
   },
   "file_extension": ".py",
   "mimetype": "text/x-python",
   "name": "python",
   "nbconvert_exporter": "python",
   "pygments_lexer": "ipython3",
   "version": "3.8.3"
  }
 },
 "nbformat": 4,
 "nbformat_minor": 4
}
