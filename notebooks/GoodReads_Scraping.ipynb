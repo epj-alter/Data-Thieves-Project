{
 "cells": [
  {
   "cell_type": "markdown",
   "metadata": {},
   "source": [
    "# Goodreads scraping\n",
    "\n",
    "https://www.goodreads.com/book/most_read?category=all&country=all&duration=m"
   ]
  },
  {
   "cell_type": "code",
   "execution_count": 1,
   "metadata": {},
   "outputs": [],
   "source": [
    "## GoodReads Scraping\n",
    "import requests as rq\n",
    "import pandas as pd\n",
    "from bs4 import BeautifulSoup as bs\n",
    "import lxml\n",
    "import re\n",
    "\n",
    "# base url\n",
    "url = 'https://www.goodreads.com/book/most_read?category=all&country=all&duration=m'"
   ]
  },
  {
   "cell_type": "markdown",
   "metadata": {},
   "source": [
    "## Make the request"
   ]
  },
  {
   "cell_type": "code",
   "execution_count": 2,
   "metadata": {},
   "outputs": [
    {
     "data": {
      "text/plain": [
       "'The Ballad of Songbirds and Snakes (The Hunger Games, #0)'"
      ]
     },
     "execution_count": 2,
     "metadata": {},
     "output_type": "execute_result"
    }
   ],
   "source": [
    "resp = rq.get(url)\n",
    "\n",
    "soup = bs(resp.text, \"lxml\")\n",
    "soup.find(\"a\", class_=\"bookTitle\").text.strip()"
   ]
  },
  {
   "cell_type": "markdown",
   "metadata": {},
   "source": [
    "## Scrape ranks"
   ]
  },
  {
   "cell_type": "code",
   "execution_count": 3,
   "metadata": {},
   "outputs": [
    {
     "data": {
      "text/plain": [
       "['1', '2', '3', '4', '5']"
      ]
     },
     "execution_count": 3,
     "metadata": {},
     "output_type": "execute_result"
    }
   ],
   "source": [
    "ranks = [x.text for x in soup.find_all(\"td\", \"number\")]\n",
    "ranks[:5]"
   ]
  },
  {
   "cell_type": "markdown",
   "metadata": {},
   "source": [
    "## Scrape titles"
   ]
  },
  {
   "cell_type": "code",
   "execution_count": 4,
   "metadata": {},
   "outputs": [
    {
     "data": {
      "text/plain": [
       "['The Ballad Of Songbirds And Snakes (The Hunger Games, #0)',\n",
       " 'Where The Crawdads Sing',\n",
       " 'Normal People',\n",
       " 'Little Fires Everywhere',\n",
       " 'The Silent Patient']"
      ]
     },
     "execution_count": 4,
     "metadata": {},
     "output_type": "execute_result"
    }
   ],
   "source": [
    "#titles\n",
    "titles = [x.text.strip().title() for x in soup.find_all(\"a\", class_=\"bookTitle\")]\n",
    "titles[:5]"
   ]
  },
  {
   "cell_type": "markdown",
   "metadata": {},
   "source": [
    "## Scrape number of readers"
   ]
  },
  {
   "cell_type": "code",
   "execution_count": 5,
   "metadata": {},
   "outputs": [
    {
     "data": {
      "text/plain": [
       "['43,504', '37,373', '33,466', '27,724', '26,540']"
      ]
     },
     "execution_count": 5,
     "metadata": {},
     "output_type": "execute_result"
    }
   ],
   "source": [
    "# reads\n",
    "pattern = r\"(\\d+,\\d+)\"\n",
    "readers_el = soup.find_all(\"span\", \"statistic\")\n",
    "readers = [''.join(re.findall(pattern, x.text)) for x in readers_el]\n",
    "readers[:5]"
   ]
  },
  {
   "cell_type": "markdown",
   "metadata": {},
   "source": [
    "## Scrape author names"
   ]
  },
  {
   "cell_type": "code",
   "execution_count": 6,
   "metadata": {},
   "outputs": [
    {
     "data": {
      "text/plain": [
       "['Suzanne Collins',\n",
       " 'Delia Owens',\n",
       " 'Sally Rooney',\n",
       " 'Celeste Ng',\n",
       " 'Alex Michaelides']"
      ]
     },
     "execution_count": 6,
     "metadata": {},
     "output_type": "execute_result"
    }
   ],
   "source": [
    "#author names\n",
    "authors = soup.find_all('a', \"authorName\")\n",
    "authors = [author.text.strip() for author in authors]\n",
    "authors[:5]\n",
    "\n",
    "#Remove 'Want to read', published, and spaces\n",
    "#Remove out of stars"
   ]
  },
  {
   "cell_type": "markdown",
   "metadata": {},
   "source": [
    "## Scrape ratings"
   ]
  },
  {
   "cell_type": "code",
   "execution_count": 7,
   "metadata": {},
   "outputs": [
    {
     "data": {
      "text/plain": [
       "['3.89', '4.48', '3.87', '4.10', '4.09']"
      ]
     },
     "execution_count": 7,
     "metadata": {},
     "output_type": "execute_result"
    }
   ],
   "source": [
    "#rating out of 5 stars\n",
    "pattern = r\"(\\d\\.\\d{1,2})\"\n",
    "ratings = [\"\".join(re.findall(pattern, x.text)) for x in soup.find_all(\"span\", \"minirating\")]\n",
    "ratings[:5]"
   ]
  },
  {
   "cell_type": "markdown",
   "metadata": {},
   "source": [
    "## Scrape n_reviews"
   ]
  },
  {
   "cell_type": "code",
   "execution_count": 8,
   "metadata": {},
   "outputs": [
    {
     "data": {
      "text/plain": [
       "['68,810', '795,279', '306,659', '620,243', '394,512']"
      ]
     },
     "execution_count": 8,
     "metadata": {},
     "output_type": "execute_result"
    }
   ],
   "source": [
    "pattern = r\"(\\d+,\\d+ | \\d+,\\d+,\\d+)\"\n",
    "n_reviews = [\"\".join(re.findall(pattern, x.text)).strip() for x in soup.find_all(\"span\", \"minirating\")]\n",
    "n_reviews[:5]"
   ]
  },
  {
   "cell_type": "markdown",
   "metadata": {},
   "source": [
    "## Create DataFrame"
   ]
  },
  {
   "cell_type": "code",
   "execution_count": 9,
   "metadata": {},
   "outputs": [
    {
     "data": {
      "text/html": [
       "<div>\n",
       "<style scoped>\n",
       "    .dataframe tbody tr th:only-of-type {\n",
       "        vertical-align: middle;\n",
       "    }\n",
       "\n",
       "    .dataframe tbody tr th {\n",
       "        vertical-align: top;\n",
       "    }\n",
       "\n",
       "    .dataframe thead th {\n",
       "        text-align: right;\n",
       "    }\n",
       "</style>\n",
       "<table border=\"1\" class=\"dataframe\">\n",
       "  <thead>\n",
       "    <tr style=\"text-align: right;\">\n",
       "      <th></th>\n",
       "      <th>rank</th>\n",
       "      <th>title</th>\n",
       "      <th>author</th>\n",
       "      <th>ratings</th>\n",
       "      <th>reviews</th>\n",
       "      <th>reads</th>\n",
       "    </tr>\n",
       "  </thead>\n",
       "  <tbody>\n",
       "    <tr>\n",
       "      <th>0</th>\n",
       "      <td>1</td>\n",
       "      <td>The Ballad Of Songbirds And Snakes (The Hunger...</td>\n",
       "      <td>Suzanne Collins</td>\n",
       "      <td>3.89</td>\n",
       "      <td>68,810</td>\n",
       "      <td>43,504</td>\n",
       "    </tr>\n",
       "    <tr>\n",
       "      <th>1</th>\n",
       "      <td>2</td>\n",
       "      <td>Where The Crawdads Sing</td>\n",
       "      <td>Delia Owens</td>\n",
       "      <td>4.48</td>\n",
       "      <td>795,279</td>\n",
       "      <td>37,373</td>\n",
       "    </tr>\n",
       "    <tr>\n",
       "      <th>2</th>\n",
       "      <td>3</td>\n",
       "      <td>Normal People</td>\n",
       "      <td>Sally Rooney</td>\n",
       "      <td>3.87</td>\n",
       "      <td>306,659</td>\n",
       "      <td>33,466</td>\n",
       "    </tr>\n",
       "    <tr>\n",
       "      <th>3</th>\n",
       "      <td>4</td>\n",
       "      <td>Little Fires Everywhere</td>\n",
       "      <td>Celeste Ng</td>\n",
       "      <td>4.10</td>\n",
       "      <td>620,243</td>\n",
       "      <td>27,724</td>\n",
       "    </tr>\n",
       "    <tr>\n",
       "      <th>4</th>\n",
       "      <td>5</td>\n",
       "      <td>The Silent Patient</td>\n",
       "      <td>Alex Michaelides</td>\n",
       "      <td>4.09</td>\n",
       "      <td>394,512</td>\n",
       "      <td>26,540</td>\n",
       "    </tr>\n",
       "  </tbody>\n",
       "</table>\n",
       "</div>"
      ],
      "text/plain": [
       "  rank                                              title            author  \\\n",
       "0    1  The Ballad Of Songbirds And Snakes (The Hunger...   Suzanne Collins   \n",
       "1    2                            Where The Crawdads Sing       Delia Owens   \n",
       "2    3                                      Normal People      Sally Rooney   \n",
       "3    4                            Little Fires Everywhere        Celeste Ng   \n",
       "4    5                                 The Silent Patient  Alex Michaelides   \n",
       "\n",
       "  ratings  reviews   reads  \n",
       "0    3.89   68,810  43,504  \n",
       "1    4.48  795,279  37,373  \n",
       "2    3.87  306,659  33,466  \n",
       "3    4.10  620,243  27,724  \n",
       "4    4.09  394,512  26,540  "
      ]
     },
     "execution_count": 9,
     "metadata": {},
     "output_type": "execute_result"
    }
   ],
   "source": [
    "data = pd.DataFrame ({\n",
    "    \"rank\": ranks,\n",
    "    \"title\": titles,\n",
    "    \"author\": authors,\n",
    "    \"ratings\": ratings,\n",
    "    \"reviews\": n_reviews,\n",
    "    \"reads\": readers,\n",
    "    })\n",
    "\n",
    "data.head()"
   ]
  },
  {
   "cell_type": "markdown",
   "metadata": {},
   "source": [
    "## Export csv"
   ]
  },
  {
   "cell_type": "code",
   "execution_count": 10,
   "metadata": {},
   "outputs": [],
   "source": [
    "data.to_csv(\"../data/goodreads.csv\", index=False)"
   ]
  },
  {
   "cell_type": "markdown",
   "metadata": {},
   "source": [
    "## Import csv"
   ]
  },
  {
   "cell_type": "code",
   "execution_count": 11,
   "metadata": {},
   "outputs": [
    {
     "data": {
      "text/html": [
       "<div>\n",
       "<style scoped>\n",
       "    .dataframe tbody tr th:only-of-type {\n",
       "        vertical-align: middle;\n",
       "    }\n",
       "\n",
       "    .dataframe tbody tr th {\n",
       "        vertical-align: top;\n",
       "    }\n",
       "\n",
       "    .dataframe thead th {\n",
       "        text-align: right;\n",
       "    }\n",
       "</style>\n",
       "<table border=\"1\" class=\"dataframe\">\n",
       "  <thead>\n",
       "    <tr style=\"text-align: right;\">\n",
       "      <th></th>\n",
       "      <th>rank</th>\n",
       "      <th>title</th>\n",
       "      <th>author</th>\n",
       "      <th>ratings</th>\n",
       "      <th>reviews</th>\n",
       "      <th>reads</th>\n",
       "    </tr>\n",
       "  </thead>\n",
       "  <tbody>\n",
       "    <tr>\n",
       "      <th>0</th>\n",
       "      <td>1</td>\n",
       "      <td>Where The Crawdads Sing</td>\n",
       "      <td>Delia Owens</td>\n",
       "      <td>4.48</td>\n",
       "      <td>783,760</td>\n",
       "      <td>38,943</td>\n",
       "    </tr>\n",
       "    <tr>\n",
       "      <th>1</th>\n",
       "      <td>2</td>\n",
       "      <td>The Ballad Of Songbirds And Snakes (The Hunger...</td>\n",
       "      <td>Suzanne Collins</td>\n",
       "      <td>3.91</td>\n",
       "      <td>59,792</td>\n",
       "      <td>36,867</td>\n",
       "    </tr>\n",
       "    <tr>\n",
       "      <th>2</th>\n",
       "      <td>3</td>\n",
       "      <td>Normal People</td>\n",
       "      <td>Sally Rooney</td>\n",
       "      <td>3.87</td>\n",
       "      <td>299,006</td>\n",
       "      <td>36,847</td>\n",
       "    </tr>\n",
       "    <tr>\n",
       "      <th>3</th>\n",
       "      <td>4</td>\n",
       "      <td>Little Fires Everywhere</td>\n",
       "      <td>Celeste Ng</td>\n",
       "      <td>4.10</td>\n",
       "      <td>613,221</td>\n",
       "      <td>29,086</td>\n",
       "    </tr>\n",
       "    <tr>\n",
       "      <th>4</th>\n",
       "      <td>5</td>\n",
       "      <td>The Silent Patient</td>\n",
       "      <td>Alex Michaelides</td>\n",
       "      <td>4.09</td>\n",
       "      <td>386,979</td>\n",
       "      <td>27,879</td>\n",
       "    </tr>\n",
       "  </tbody>\n",
       "</table>\n",
       "</div>"
      ],
      "text/plain": [
       "   rank                                              title            author  \\\n",
       "0     1                            Where The Crawdads Sing       Delia Owens   \n",
       "1     2  The Ballad Of Songbirds And Snakes (The Hunger...   Suzanne Collins   \n",
       "2     3                                      Normal People      Sally Rooney   \n",
       "3     4                            Little Fires Everywhere        Celeste Ng   \n",
       "4     5                                 The Silent Patient  Alex Michaelides   \n",
       "\n",
       "   ratings  reviews   reads  \n",
       "0     4.48  783,760  38,943  \n",
       "1     3.91   59,792  36,867  \n",
       "2     3.87  299,006  36,847  \n",
       "3     4.10  613,221  29,086  \n",
       "4     4.09  386,979  27,879  "
      ]
     },
     "execution_count": 11,
     "metadata": {},
     "output_type": "execute_result"
    }
   ],
   "source": [
    "pd.read_csv(\"../data/goodreads.csv\").head()"
   ]
  }
 ],
 "metadata": {
  "kernelspec": {
   "display_name": "Python 3",
   "language": "python",
   "name": "python3"
  },
  "language_info": {
   "codemirror_mode": {
    "name": "ipython",
    "version": 3
   },
   "file_extension": ".py",
   "mimetype": "text/x-python",
   "name": "python",
   "nbconvert_exporter": "python",
   "pygments_lexer": "ipython3",
   "version": "3.8.3"
  }
 },
 "nbformat": 4,
 "nbformat_minor": 4
}
