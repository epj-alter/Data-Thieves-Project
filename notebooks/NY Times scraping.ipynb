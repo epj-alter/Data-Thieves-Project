{
 "cells": [
  {
   "cell_type": "markdown",
   "metadata": {},
   "source": [
    "# NY TIMES Links\n",
    "\n",
    "https://www.nytimes.com/books/best-sellers/"
   ]
  },
  {
   "cell_type": "markdown",
   "metadata": {},
   "source": [
    "## 1. Import libraries"
   ]
  },
  {
   "cell_type": "code",
   "execution_count": 1,
   "metadata": {},
   "outputs": [],
   "source": [
    "import requests as rq\n",
    "import pandas as pd\n",
    "from bs4 import BeautifulSoup as bs\n",
    "import lxml\n",
    "import re"
   ]
  },
  {
   "cell_type": "markdown",
   "metadata": {},
   "source": [
    "## 2. Set base url"
   ]
  },
  {
   "cell_type": "code",
   "execution_count": 2,
   "metadata": {},
   "outputs": [],
   "source": [
    "url = \"https://www.nytimes.com/books/best-sellers/2020/06/21/\""
   ]
  },
  {
   "cell_type": "markdown",
   "metadata": {},
   "source": [
    "## 3. Make a request "
   ]
  },
  {
   "cell_type": "code",
   "execution_count": 3,
   "metadata": {},
   "outputs": [
    {
     "data": {
      "text/plain": [
       "200"
      ]
     },
     "execution_count": 3,
     "metadata": {},
     "output_type": "execute_result"
    }
   ],
   "source": [
    "# set response object\n",
    "res = rq.get(url)\n",
    "# check status code 200 = OK\n",
    "res.status_code"
   ]
  },
  {
   "cell_type": "markdown",
   "metadata": {},
   "source": [
    "## 4. Create our soup object"
   ]
  },
  {
   "cell_type": "code",
   "execution_count": 4,
   "metadata": {},
   "outputs": [
    {
     "data": {
      "text/plain": [
       "'Best Sellers - The New York Times'"
      ]
     },
     "execution_count": 4,
     "metadata": {},
     "output_type": "execute_result"
    }
   ],
   "source": [
    "lasoupe = bs(res.text, 'lxml')\n",
    "lasoupe.find(\"title\").text"
   ]
  },
  {
   "cell_type": "markdown",
   "metadata": {},
   "source": [
    "## 5. Find the data\n",
    "\n",
    "- [x] find the sections (genres and types of books)\n",
    "- [x] for each section find the top books\n",
    "    - [x] position\n",
    "    - [x] title\n",
    "    - [x] author\n",
    "    - [x] how many weeks in the list\n",
    "    - [x] synopsis\n",
    "    - [x] cover"
   ]
  },
  {
   "cell_type": "code",
   "execution_count": 5,
   "metadata": {},
   "outputs": [],
   "source": [
    "section_class = \"css-nzgijy\"\n",
    "sections = [x.text for x in lasoupe.find_all(\"a\", section_class) for i in range(5)]"
   ]
  },
  {
   "cell_type": "code",
   "execution_count": 6,
   "metadata": {},
   "outputs": [],
   "source": [
    "title_class = \"css-i1z3c1\"\n",
    "titles = [x.text.title() for x in lasoupe.find_all(\"h3\", title_class)]"
   ]
  },
  {
   "cell_type": "code",
   "execution_count": 7,
   "metadata": {},
   "outputs": [],
   "source": [
    "author_class = \"css-1nxjbfc\"\n",
    "authors = [re.sub(\"by \", \"\", x.text) for x in lasoupe.find_all(\"p\", author_class)]"
   ]
  },
  {
   "cell_type": "code",
   "execution_count": 8,
   "metadata": {},
   "outputs": [],
   "source": [
    "synopsis_class = \"css-5yxv3r\"\n",
    "synopsis = [x.text if x.text != \"\" else \"null\" for x in lasoupe.find_all(\"p\", synopsis_class)]"
   ]
  },
  {
   "cell_type": "code",
   "execution_count": 9,
   "metadata": {},
   "outputs": [],
   "source": [
    "cover_class = \"css-35otwa\"\n",
    "covers = [x[\"src\"] for x in lasoupe.find_all(\"img\", cover_class)]"
   ]
  },
  {
   "cell_type": "code",
   "execution_count": 10,
   "metadata": {},
   "outputs": [],
   "source": [
    "week_class = \"css-t7cods\"\n",
    "n_weeks = r\"(\\d{1,4})\"\n",
    "weeks = [''.join(re.findall(n_weeks, x.text)) for x in lasoupe.find_all(\"p\", week_class)]"
   ]
  },
  {
   "cell_type": "markdown",
   "metadata": {},
   "source": [
    "## 6. Create the Data Frame object"
   ]
  },
  {
   "cell_type": "code",
   "execution_count": 18,
   "metadata": {},
   "outputs": [
    {
     "data": {
      "text/html": [
       "<div>\n",
       "<style scoped>\n",
       "    .dataframe tbody tr th:only-of-type {\n",
       "        vertical-align: middle;\n",
       "    }\n",
       "\n",
       "    .dataframe tbody tr th {\n",
       "        vertical-align: top;\n",
       "    }\n",
       "\n",
       "    .dataframe thead th {\n",
       "        text-align: right;\n",
       "    }\n",
       "</style>\n",
       "<table border=\"1\" class=\"dataframe\">\n",
       "  <thead>\n",
       "    <tr style=\"text-align: right;\">\n",
       "      <th></th>\n",
       "      <th>title</th>\n",
       "      <th>author</th>\n",
       "      <th>synopsis</th>\n",
       "      <th>cover_url</th>\n",
       "      <th>genre_common</th>\n",
       "      <th>weeks</th>\n",
       "    </tr>\n",
       "  </thead>\n",
       "  <tbody>\n",
       "    <tr>\n",
       "      <th>0</th>\n",
       "      <td>The Summer House</td>\n",
       "      <td>James Patterson and Brendan DuBois</td>\n",
       "      <td>Jeremiah Cook, a veteran and former N.Y.P.D. c...</td>\n",
       "      <td>https://s1.nyt.com/du/books/images/97803165395...</td>\n",
       "      <td>Combined Print &amp; E-Book Fiction</td>\n",
       "      <td>1</td>\n",
       "    </tr>\n",
       "    <tr>\n",
       "      <th>1</th>\n",
       "      <td>Daddy'S Girls</td>\n",
       "      <td>Danielle Steel</td>\n",
       "      <td>After a California rancher‘s sudden death, his...</td>\n",
       "      <td>https://s1.nyt.com/du/books/images/97803991796...</td>\n",
       "      <td>Combined Print &amp; E-Book Fiction</td>\n",
       "      <td>1</td>\n",
       "    </tr>\n",
       "    <tr>\n",
       "      <th>2</th>\n",
       "      <td>Tom Clancy: Firing Point</td>\n",
       "      <td>Mike Maden</td>\n",
       "      <td>When an old friend is killed during the bombin...</td>\n",
       "      <td>https://s1.nyt.com/du/books/images/97805931880...</td>\n",
       "      <td>Combined Print &amp; E-Book Fiction</td>\n",
       "      <td>1</td>\n",
       "    </tr>\n",
       "    <tr>\n",
       "      <th>3</th>\n",
       "      <td>Where The Crawdads Sing</td>\n",
       "      <td>Delia Owens</td>\n",
       "      <td>In a quiet town on the North Carolina coast in...</td>\n",
       "      <td>https://s1.nyt.com/du/books/images/97807352190...</td>\n",
       "      <td>Combined Print &amp; E-Book Fiction</td>\n",
       "      <td>92</td>\n",
       "    </tr>\n",
       "    <tr>\n",
       "      <th>4</th>\n",
       "      <td>The Vanishing Half</td>\n",
       "      <td>Brit Bennett</td>\n",
       "      <td>The lives of twin sisters who run away from a ...</td>\n",
       "      <td>https://s1.nyt.com/du/books/images/97805255362...</td>\n",
       "      <td>Combined Print &amp; E-Book Fiction</td>\n",
       "      <td>2</td>\n",
       "    </tr>\n",
       "  </tbody>\n",
       "</table>\n",
       "</div>"
      ],
      "text/plain": [
       "                      title                              author  \\\n",
       "0          The Summer House  James Patterson and Brendan DuBois   \n",
       "1             Daddy'S Girls                      Danielle Steel   \n",
       "2  Tom Clancy: Firing Point                          Mike Maden   \n",
       "3   Where The Crawdads Sing                         Delia Owens   \n",
       "4        The Vanishing Half                        Brit Bennett   \n",
       "\n",
       "                                            synopsis  \\\n",
       "0  Jeremiah Cook, a veteran and former N.Y.P.D. c...   \n",
       "1  After a California rancher‘s sudden death, his...   \n",
       "2  When an old friend is killed during the bombin...   \n",
       "3  In a quiet town on the North Carolina coast in...   \n",
       "4  The lives of twin sisters who run away from a ...   \n",
       "\n",
       "                                           cover_url  \\\n",
       "0  https://s1.nyt.com/du/books/images/97803165395...   \n",
       "1  https://s1.nyt.com/du/books/images/97803991796...   \n",
       "2  https://s1.nyt.com/du/books/images/97805931880...   \n",
       "3  https://s1.nyt.com/du/books/images/97807352190...   \n",
       "4  https://s1.nyt.com/du/books/images/97805255362...   \n",
       "\n",
       "                      genre_common weeks  \n",
       "0  Combined Print & E-Book Fiction     1  \n",
       "1  Combined Print & E-Book Fiction     1  \n",
       "2  Combined Print & E-Book Fiction     1  \n",
       "3  Combined Print & E-Book Fiction    92  \n",
       "4  Combined Print & E-Book Fiction     2  "
      ]
     },
     "execution_count": 18,
     "metadata": {},
     "output_type": "execute_result"
    }
   ],
   "source": [
    "data = pd.DataFrame({\"title\": titles, \"author\": authors, \"synopsis\": synopsis, \"cover_url\": covers, \"genre_common\": sections,\"weeks\": weeks })\n",
    "\n",
    "# replace empty weeks by 1 week\n",
    "data.replace(\"\", 1, inplace=True)\n",
    "data.head()"
   ]
  },
  {
   "cell_type": "markdown",
   "metadata": {},
   "source": [
    "## 7. Export csv file  "
   ]
  },
  {
   "cell_type": "code",
   "execution_count": 19,
   "metadata": {},
   "outputs": [],
   "source": [
    "data.to_csv(\"../data/ny_times.csv\" ,index=False)"
   ]
  },
  {
   "cell_type": "code",
   "execution_count": 23,
   "metadata": {},
   "outputs": [
    {
     "data": {
      "text/html": [
       "<div>\n",
       "<style scoped>\n",
       "    .dataframe tbody tr th:only-of-type {\n",
       "        vertical-align: middle;\n",
       "    }\n",
       "\n",
       "    .dataframe tbody tr th {\n",
       "        vertical-align: top;\n",
       "    }\n",
       "\n",
       "    .dataframe thead th {\n",
       "        text-align: right;\n",
       "    }\n",
       "</style>\n",
       "<table border=\"1\" class=\"dataframe\">\n",
       "  <thead>\n",
       "    <tr style=\"text-align: right;\">\n",
       "      <th></th>\n",
       "      <th>title</th>\n",
       "      <th>author</th>\n",
       "      <th>synopsis</th>\n",
       "      <th>cover_url</th>\n",
       "      <th>genre_common</th>\n",
       "      <th>weeks</th>\n",
       "    </tr>\n",
       "  </thead>\n",
       "  <tbody>\n",
       "    <tr>\n",
       "      <th>0</th>\n",
       "      <td>The Summer House</td>\n",
       "      <td>James Patterson and Brendan DuBois</td>\n",
       "      <td>Jeremiah Cook, a veteran and former N.Y.P.D. c...</td>\n",
       "      <td>https://s1.nyt.com/du/books/images/97803165395...</td>\n",
       "      <td>Combined Print &amp; E-Book Fiction</td>\n",
       "      <td>1</td>\n",
       "    </tr>\n",
       "    <tr>\n",
       "      <th>1</th>\n",
       "      <td>Daddy'S Girls</td>\n",
       "      <td>Danielle Steel</td>\n",
       "      <td>After a California rancher‘s sudden death, his...</td>\n",
       "      <td>https://s1.nyt.com/du/books/images/97803991796...</td>\n",
       "      <td>Combined Print &amp; E-Book Fiction</td>\n",
       "      <td>1</td>\n",
       "    </tr>\n",
       "    <tr>\n",
       "      <th>2</th>\n",
       "      <td>Tom Clancy: Firing Point</td>\n",
       "      <td>Mike Maden</td>\n",
       "      <td>When an old friend is killed during the bombin...</td>\n",
       "      <td>https://s1.nyt.com/du/books/images/97805931880...</td>\n",
       "      <td>Combined Print &amp; E-Book Fiction</td>\n",
       "      <td>1</td>\n",
       "    </tr>\n",
       "    <tr>\n",
       "      <th>3</th>\n",
       "      <td>Where The Crawdads Sing</td>\n",
       "      <td>Delia Owens</td>\n",
       "      <td>In a quiet town on the North Carolina coast in...</td>\n",
       "      <td>https://s1.nyt.com/du/books/images/97807352190...</td>\n",
       "      <td>Combined Print &amp; E-Book Fiction</td>\n",
       "      <td>92</td>\n",
       "    </tr>\n",
       "    <tr>\n",
       "      <th>4</th>\n",
       "      <td>The Vanishing Half</td>\n",
       "      <td>Brit Bennett</td>\n",
       "      <td>The lives of twin sisters who run away from a ...</td>\n",
       "      <td>https://s1.nyt.com/du/books/images/97805255362...</td>\n",
       "      <td>Combined Print &amp; E-Book Fiction</td>\n",
       "      <td>2</td>\n",
       "    </tr>\n",
       "  </tbody>\n",
       "</table>\n",
       "</div>"
      ],
      "text/plain": [
       "                      title                              author  \\\n",
       "0          The Summer House  James Patterson and Brendan DuBois   \n",
       "1             Daddy'S Girls                      Danielle Steel   \n",
       "2  Tom Clancy: Firing Point                          Mike Maden   \n",
       "3   Where The Crawdads Sing                         Delia Owens   \n",
       "4        The Vanishing Half                        Brit Bennett   \n",
       "\n",
       "                                            synopsis  \\\n",
       "0  Jeremiah Cook, a veteran and former N.Y.P.D. c...   \n",
       "1  After a California rancher‘s sudden death, his...   \n",
       "2  When an old friend is killed during the bombin...   \n",
       "3  In a quiet town on the North Carolina coast in...   \n",
       "4  The lives of twin sisters who run away from a ...   \n",
       "\n",
       "                                           cover_url  \\\n",
       "0  https://s1.nyt.com/du/books/images/97803165395...   \n",
       "1  https://s1.nyt.com/du/books/images/97803991796...   \n",
       "2  https://s1.nyt.com/du/books/images/97805931880...   \n",
       "3  https://s1.nyt.com/du/books/images/97807352190...   \n",
       "4  https://s1.nyt.com/du/books/images/97805255362...   \n",
       "\n",
       "                      genre_common  weeks  \n",
       "0  Combined Print & E-Book Fiction      1  \n",
       "1  Combined Print & E-Book Fiction      1  \n",
       "2  Combined Print & E-Book Fiction      1  \n",
       "3  Combined Print & E-Book Fiction     92  \n",
       "4  Combined Print & E-Book Fiction      2  "
      ]
     },
     "execution_count": 23,
     "metadata": {},
     "output_type": "execute_result"
    }
   ],
   "source": [
    "pd.read_csv(\"../data/ny_times.csv\").head()"
   ]
  }
 ],
 "metadata": {
  "kernelspec": {
   "display_name": "Python 3.8.3 64-bit ('ironhack': conda)",
   "language": "python",
   "name": "python38364bitironhackcondae22397c42f6b4fd29a9381c81ac70f68"
  },
  "language_info": {
   "codemirror_mode": {
    "name": "ipython",
    "version": 3
   },
   "file_extension": ".py",
   "mimetype": "text/x-python",
   "name": "python",
   "nbconvert_exporter": "python",
   "pygments_lexer": "ipython3",
   "version": "3.8.3"
  }
 },
 "nbformat": 4,
 "nbformat_minor": 4
}
